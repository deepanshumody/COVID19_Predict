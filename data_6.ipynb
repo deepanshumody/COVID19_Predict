{
  "nbformat": 4,
  "nbformat_minor": 0,
  "metadata": {
    "colab": {
      "name": "data_6 (1).ipynb",
      "provenance": [],
      "collapsed_sections": [],
      "include_colab_link": true
    },
    "kernelspec": {
      "display_name": "Python 3",
      "name": "python3"
    },
    "language_info": {
      "name": "python"
    }
  },
  "cells": [
    {
      "cell_type": "markdown",
      "metadata": {
        "id": "view-in-github",
        "colab_type": "text"
      },
      "source": [
        "<a href=\"https://colab.research.google.com/github/dmod99/COVID19_Predict/blob/main/data_6_(1).ipynb\" target=\"_parent\"><img src=\"https://colab.research.google.com/assets/colab-badge.svg\" alt=\"Open In Colab\"/></a>"
      ]
    },
    {
      "cell_type": "code",
      "metadata": {
        "colab": {
          "background_save": true
        },
        "id": "biOxPLfZXViI"
      },
      "source": [
        "#Imorting all libraries\n",
        "import pandas as pd\n",
        "import numpy as np \n",
        "import matplotlib.pyplot as plt\n",
        "from sklearn.linear_model import LogisticRegression\n",
        "from sklearn.linear_model import Perceptron\n",
        "from sklearn.svm import SVC  \n",
        "from sklearn.model_selection import train_test_split  \n",
        "from sklearn.naive_bayes import GaussianNB\n",
        "from sklearn.discriminant_analysis import LinearDiscriminantAnalysis\n",
        "from sklearn.neighbors import KNeighborsClassifier\n",
        "from sklearn.neural_network import MLPClassifier\n",
        "from sklearn.metrics import classification_report\n",
        "from sklearn.metrics import accuracy_score\n",
        "from sklearn.metrics import confusion_matrix\n",
        "from sklearn.experimental import enable_iterative_imputer\n",
        "from sklearn.impute import SimpleImputer\n",
        "import statistics"
      ],
      "execution_count": null,
      "outputs": []
    },
    {
      "cell_type": "markdown",
      "metadata": {
        "id": "bU5Wn9Fs2SpP"
      },
      "source": [
        "\n",
        "# New Section"
      ]
    },
    {
      "cell_type": "code",
      "metadata": {
        "colab": {
          "background_save": true
        },
        "id": "iKeV30GKX3xO"
      },
      "source": [
        "#read and shuffle data\n",
        "df = pd.read_csv(\"/content/Dataset-6.csv\")\n",
        "df = df.sample(frac = 1,random_state=2)"
      ],
      "execution_count": null,
      "outputs": []
    },
    {
      "cell_type": "code",
      "metadata": {
        "colab": {
          "background_save": true
        },
        "id": "WGCu09H5X3rR"
      },
      "source": [
        "df.columns"
      ],
      "execution_count": null,
      "outputs": []
    },
    {
      "cell_type": "code",
      "metadata": {
        "colab": {
          "background_save": true
        },
        "id": "z8I0pGRHX3kn"
      },
      "source": [
        "df"
      ],
      "execution_count": null,
      "outputs": []
    },
    {
      "cell_type": "code",
      "metadata": {
        "colab": {
          "background_save": true
        },
        "id": "unbT3-0WX3Nd"
      },
      "source": [
        "df['SARS-CoV-2'].value_counts()"
      ],
      "execution_count": null,
      "outputs": []
    },
    {
      "cell_type": "code",
      "metadata": {
        "colab": {
          "background_save": true
        },
        "id": "S9u3PM5MZ7xS"
      },
      "source": [
        "df.shape"
      ],
      "execution_count": null,
      "outputs": []
    },
    {
      "cell_type": "code",
      "metadata": {
        "colab": {
          "background_save": true
        },
        "id": "BZSVanAwY3Nv"
      },
      "source": [
        "#dropping id column as it is not a valid attribute to train model\n",
        "#df = df.drop(['Unnamed: 0'], axis = 1)\n",
        "#df = df.drop(['New_ID'], axis = 1)"
      ],
      "execution_count": null,
      "outputs": []
    },
    {
      "cell_type": "code",
      "metadata": {
        "colab": {
          "background_save": true
        },
        "id": "iy-w2Eg8a5FY"
      },
      "source": [
        "df"
      ],
      "execution_count": null,
      "outputs": []
    },
    {
      "cell_type": "code",
      "metadata": {
        "colab": {
          "background_save": true
        },
        "id": "G8B_AeN9nZC_"
      },
      "source": [
        "df.isnull().any()"
      ],
      "execution_count": null,
      "outputs": []
    },
    {
      "cell_type": "code",
      "metadata": {
        "colab": {
          "background_save": true
        },
        "id": "vAOo1CzUnk3T"
      },
      "source": [
        "#df = df.fillna(lambda x: x.median())"
      ],
      "execution_count": null,
      "outputs": []
    },
    {
      "cell_type": "code",
      "metadata": {
        "colab": {
          "background_save": true
        },
        "id": "mSHf4nTTdoGU"
      },
      "source": [
        "data = df.to_numpy()\n",
        "\n",
        "data.shape"
      ],
      "execution_count": null,
      "outputs": []
    },
    {
      "cell_type": "code",
      "metadata": {
        "colab": {
          "background_save": true
        },
        "id": "ff7IPLZYtJP4"
      },
      "source": [
        "imp = SimpleImputer(missing_values=np.nan, strategy='median')\n",
        "imp.fit(data)\n",
        "#X_2 = X\n",
        "SimpleImputer()\n",
        "data = imp.transform(data)\n",
        "\n",
        "data"
      ],
      "execution_count": null,
      "outputs": []
    },
    {
      "cell_type": "code",
      "metadata": {
        "colab": {
          "background_save": true
        },
        "id": "KyiXP49_kKZY"
      },
      "source": [
        "#splitting into 7 folds\n",
        "data_g = np.array_split(data, 7)"
      ],
      "execution_count": null,
      "outputs": []
    },
    {
      "cell_type": "markdown",
      "metadata": {
        "id": "RmvcBylZCgap"
      },
      "source": [
        "## **LOGISTIC REGRESSION**"
      ]
    },
    {
      "cell_type": "code",
      "metadata": {
        "colab": {
          "background_save": true
        },
        "id": "TelOon4rY3LV"
      },
      "source": [
        "accuracy_log_test = []\n",
        "accuracy_log_train = []\n",
        "classif_log_test=[]\n",
        "classif_log_train=[]\n",
        "\n",
        "for i in range(7):\n",
        "  if i == 1:\n",
        "    test_data = data_g[i]\n",
        "    test_data_x = []\n",
        "    test_data_y = []\n",
        "    train_data_x = []\n",
        "    train_data_y = []\n",
        "    for j in range(7):\n",
        "        if j!=i:      #creating training dataset\n",
        "            for w in range(len(data_g[j])):\n",
        "                train_data_x.append(data_g[j][w][:20])\n",
        "                train_data_y.append(data_g[j][w][20])\n",
        "        elif j == i:      #creating testing dataset\n",
        "            for w in range(len(data_g[j])):\n",
        "                test_data_x.append(data_g[j][w][:20])\n",
        "                test_data_y.append(data_g[j][w][20])\n",
        "\n",
        "    #convert into array\n",
        "    test_data_xn = np.array(test_data_x)\n",
        "    train_data_xn = np.array(train_data_x)\n",
        "    test_data_yn = np.array(test_data_y)\n",
        "    train_data_yn = np.array(train_data_y)\n",
        "   \n",
        "    #importing model from sklearn \n",
        "    clf = LogisticRegression(random_state = 0)\n",
        "    clf.fit(train_data_xn, train_data_yn)\n",
        "    \n",
        "    #predict class\n",
        "    test_pred_y_log = clf.predict(test_data_xn)\n",
        "    train_pred_y_log = clf.predict(train_data_xn)\n",
        "    \n",
        "    pred_prob1 = clf.predict_proba(test_data_xn)\n",
        "\n",
        "    arr_2d = np.reshape(test_data_yn, (1022, 1))\n",
        "    new_np = np.hstack((test_data_xn,arr_2d))\n",
        "    finaltocsv= np.hstack((new_np,pred_prob1))\n",
        "    finaldf = pd.DataFrame(finaltocsv)\n",
        "    finaldf.to_csv(\"Dataset6-logistic-regression-test-results.csv\")\n",
        "\n",
        "    from sklearn.metrics import roc_curve\n",
        "\n",
        "    # roc curve for models\n",
        "    fpr1, tpr1, thresh1 = roc_curve(test_data_yn, pred_prob1[:,1], pos_label=1)\n",
        "\n",
        "    # roc curve for tpr = fpr \n",
        "    random_probs = [0 for i in range(len(test_data_yn))]\n",
        "    p_fpr, p_tpr, _ = roc_curve(test_data_yn, random_probs, pos_label=1)\n",
        "    \n",
        "    from sklearn.metrics import roc_auc_score\n",
        "    auc_score1 = roc_auc_score(test_data_yn, pred_prob1[:,1])\n",
        "    print(auc_score1)\n",
        "\n",
        "    # matplotlib\n",
        "    import matplotlib.pyplot as plt\n",
        "    plt.style.use('seaborn')\n",
        "\n",
        "    # plot roc curves\n",
        "    plt.plot(fpr1, tpr1, linestyle='--',color='orange', label='Logistic Regression')\n",
        "    plt.plot(p_fpr, p_tpr, linestyle='--', color='blue')\n",
        "    # title\n",
        "    plt.title('ROC curve')\n",
        "    # x label\n",
        "    plt.xlabel('False Positive Rate')\n",
        "    # y label\n",
        "    plt.ylabel('True Positive rate')\n",
        "\n",
        "    plt.legend(loc='best')\n",
        "    #calculating and appending accuracies\n",
        "    acc1_log = accuracy_score(test_data_yn, test_pred_y_log)\n",
        "    accuracy_log_test.append(acc1_log)\n",
        "    print(\"----------------------TESTING-----------------------\")\n",
        "    target_names = ['Covid Negative', 'Covid Positive']\n",
        "    print(classification_report(test_data_yn, test_pred_y_log, target_names=target_names))\n",
        "    print(\"------------------TRAINING-----------------\")\n",
        "    acc2_log = accuracy_score(train_data_yn, train_pred_y_log)\n",
        "    accuracy_log_train.append(acc2_log)\n",
        "    target_names = ['Covid Negative', 'Covid Positive']\n",
        "    print(classification_report(train_data_yn, train_pred_y_log, target_names=target_names))\n"
      ],
      "execution_count": null,
      "outputs": []
    },
    {
      "cell_type": "code",
      "metadata": {
        "colab": {
          "background_save": true
        },
        "id": "sRdXWPlXUMmc"
      },
      "source": [
        "#Creating the Confusion matrix\n",
        "cm= confusion_matrix(test_data_yn, test_pred_y_log)\n",
        "cm"
      ],
      "execution_count": null,
      "outputs": []
    },
    {
      "cell_type": "code",
      "metadata": {
        "colab": {
          "background_save": true
        },
        "id": "PwlXhGU5Y2-Q"
      },
      "source": [
        "#printing accuracies \n",
        "\n",
        "print(\"Mean accuracy for test set = \", statistics.mean(accuracy_log_test))\n",
        "print(\"Mean accuracy for train set = \", statistics.mean(accuracy_log_train))\n"
      ],
      "execution_count": null,
      "outputs": []
    },
    {
      "cell_type": "markdown",
      "metadata": {
        "id": "ipOJwwE-CsFE"
      },
      "source": [
        "# **NAIVE BAYES**"
      ]
    },
    {
      "cell_type": "code",
      "metadata": {
        "colab": {
          "background_save": true
        },
        "id": "qf946sGdDAmT"
      },
      "source": [
        "accuracy_nb_test = []\n",
        "accuracy_nb_train = []\n",
        "\n",
        "for i in range(7):\n",
        "  if i == 1:\n",
        "    test_data = data_g[i]\n",
        "    test_data_x = []\n",
        "    test_data_y = []\n",
        "    train_data_x = []\n",
        "    train_data_y = []\n",
        "    for j in range(7):\n",
        "        if j!=i:      #creating training dataset\n",
        "            for w in range(len(data_g[j])):\n",
        "                train_data_x.append(data_g[j][w][:20])\n",
        "                train_data_y.append(data_g[j][w][20])\n",
        "        elif j == i:      #creating testing dataset\n",
        "            for w in range(len(data_g[j])):\n",
        "                test_data_x.append(data_g[j][w][:20])\n",
        "                test_data_y.append(data_g[j][w][20])\n",
        "       \n",
        "    #convert into array         \n",
        "    test_data_xn = np.array(test_data_x)\n",
        "    train_data_xn = np.array(train_data_x)\n",
        "    test_data_yn = np.array(test_data_y)\n",
        "    train_data_yn = np.array(train_data_y)\n",
        "    \n",
        "    #importing model from sklearn\n",
        "    clf = GaussianNB()\n",
        "    clf.fit(train_data_xn, train_data_yn)\n",
        "\n",
        "    \n",
        "    #predict class\n",
        "    test_pred_y_log = clf.predict(test_data_xn)\n",
        "    train_pred_y_log = clf.predict(train_data_xn)\n",
        "    \n",
        "    pred_prob1 = clf.predict_proba(test_data_xn)\n",
        "\n",
        "    arr_2d = np.reshape(test_data_yn, (1022, 1))\n",
        "    new_np = np.hstack((test_data_xn,arr_2d))\n",
        "    finaltocsv= np.hstack((new_np,pred_prob1))\n",
        "    finaldf = pd.DataFrame(finaltocsv)\n",
        "\n",
        "    finaldf.to_csv(\"Dataset6-naive-bayes-test-results.csv\")\n",
        "    from sklearn.metrics import roc_curve\n",
        "\n",
        "    # roc curve for models\n",
        "    fpr2, tpr2, thresh2 = roc_curve(test_data_yn, pred_prob1[:,1], pos_label=1)\n",
        "\n",
        "    # roc curve for tpr = fpr \n",
        "    random_probs = [0 for i in range(len(test_data_yn))]\n",
        "    p_fpr, p_tpr, _ = roc_curve(test_data_yn, random_probs, pos_label=1)\n",
        "    \n",
        "    from sklearn.metrics import roc_auc_score\n",
        "    auc_score1 = roc_auc_score(test_data_yn, pred_prob1[:,1])\n",
        "    print(auc_score1)\n",
        "\n",
        "    # matplotlib\n",
        "    import matplotlib.pyplot as plt\n",
        "    plt.style.use('seaborn')\n",
        "\n",
        "    # plot roc curves\n",
        "    plt.plot(fpr2, tpr2, linestyle='--',color='red', label='Naive Bayes')\n",
        "    plt.plot(p_fpr, p_tpr, linestyle='--', color='blue')\n",
        "    # title\n",
        "    plt.title('ROC curve')\n",
        "    # x label\n",
        "    plt.xlabel('False Positive Rate')\n",
        "    # y label\n",
        "    plt.ylabel('True Positive rate')\n",
        "\n",
        "    plt.legend(loc='best')\n",
        "    plt.savefig('ROC',dpi=300)\n",
        "    #predict class\n",
        "    test_pred_y_nb = clf.predict(test_data_xn)\n",
        "    train_pred_y_nb = clf.predict(train_data_xn)\n",
        "\n",
        "    #calculating and appending accuracies\n",
        "    acc1_nb = accuracy_score(test_data_yn, test_pred_y_nb)\n",
        "    accuracy_nb_test.append(acc1_nb)\n",
        "    \n",
        "    acc2_nb = accuracy_score(train_data_yn, train_pred_y_nb)\n",
        "    accuracy_nb_train.append(acc2_nb)\n",
        "    print(\"----------------------TESTING-----------------------\")\n",
        "    target_names = ['Covid Negative', 'Covid Positive']\n",
        "    print(classification_report(test_data_yn, test_pred_y_log, target_names=target_names))"
      ],
      "execution_count": null,
      "outputs": []
    },
    {
      "cell_type": "markdown",
      "metadata": {
        "id": "JDMGbe8ugusJ"
      },
      "source": [
        ""
      ]
    },
    {
      "cell_type": "code",
      "metadata": {
        "colab": {
          "background_save": true
        },
        "id": "L-7tdQEXDAkS"
      },
      "source": [
        "#printing accuracies \n",
        "\n",
        "print(\"Mean accuracy for test set = \", statistics.mean(accuracy_nb_test))\n",
        "print(\"Mean accuracy for train set = \", statistics.mean(accuracy_nb_train))"
      ],
      "execution_count": null,
      "outputs": []
    },
    {
      "cell_type": "markdown",
      "metadata": {
        "id": "UJ7eu-ImlZp6"
      },
      "source": [
        "# ***Fisher Linear Discriminant***"
      ]
    },
    {
      "cell_type": "code",
      "metadata": {
        "colab": {
          "background_save": true
        },
        "id": "N70kkU0KDAhz"
      },
      "source": [
        "accuracy_fl_test = []\n",
        "accuracy_fl_train = []\n",
        "\n",
        "for i in range(7):\n",
        "  if i == 1:\n",
        "    test_data = data_g[i]\n",
        "    test_data_x = []\n",
        "    test_data_y = []\n",
        "    train_data_x = []\n",
        "    train_data_y = []\n",
        "    for j in range(7):\n",
        "        if j!=i:      #creating training dataset\n",
        "            for w in range(len(data_g[j])):\n",
        "                train_data_x.append(data_g[j][w][:20])\n",
        "                train_data_y.append(data_g[j][w][20])\n",
        "        elif j == i:      #creating testing dataset\n",
        "            for w in range(len(data_g[j])):\n",
        "                test_data_x.append(data_g[j][w][:20])\n",
        "                test_data_y.append(data_g[j][w][20])\n",
        "                \n",
        "    #convert into array\n",
        "    test_data_xn = np.array(test_data_x)\n",
        "    train_data_xn = np.array(train_data_x)\n",
        "    test_data_yn = np.array(test_data_y)\n",
        "    train_data_yn = np.array(train_data_y)\n",
        "    \n",
        "    #importing model from sklearn\n",
        "    clf = LinearDiscriminantAnalysis()\n",
        "    clf.fit(train_data_xn, train_data_yn)\n",
        "    \n",
        "    #predict class\n",
        "    test_pred_y_log = clf.predict(test_data_xn)\n",
        "    train_pred_y_log = clf.predict(train_data_xn)\n",
        "    \n",
        "    pred_prob1 = clf.predict_proba(test_data_xn)\n",
        "\n",
        "    arr_2d = np.reshape(test_data_yn, (1022, 1))\n",
        "    new_np = np.hstack((test_data_xn,arr_2d))\n",
        "    finaltocsv= np.hstack((new_np,pred_prob1))\n",
        "    finaldf = pd.DataFrame(finaltocsv)\n",
        "    finaldf.to_csv(\"Dataset6-fisher's-linear-discriminant-results.csv\")\n",
        "\n",
        "    from sklearn.metrics import roc_curve\n",
        "\n",
        "    # roc curve for models\n",
        "    fpr3, tpr3, thresh3 = roc_curve(test_data_yn, pred_prob1[:,1], pos_label=1)\n",
        "\n",
        "    # roc curve for tpr = fpr \n",
        "    random_probs = [0 for i in range(len(test_data_yn))]\n",
        "    p_fpr, p_tpr, _ = roc_curve(test_data_yn, random_probs, pos_label=1)\n",
        "    \n",
        "    from sklearn.metrics import roc_auc_score\n",
        "    auc_score1 = roc_auc_score(test_data_yn, pred_prob1[:,1])\n",
        "    print(auc_score1)\n",
        "\n",
        "    # matplotlib\n",
        "    import matplotlib.pyplot as plt\n",
        "    plt.style.use('seaborn')\n",
        "\n",
        "    # plot roc curves\n",
        "    plt.plot(fpr3, tpr3, linestyle='--',color='yellow', label='Fisher Linear Discriminant')\n",
        "    plt.plot(p_fpr, p_tpr, linestyle='--', color='blue')\n",
        "    # title\n",
        "    plt.title('ROC curve')\n",
        "    # x label\n",
        "    plt.xlabel('False Positive Rate')\n",
        "    # y label\n",
        "    plt.ylabel('True Positive rate')\n",
        "\n",
        "    plt.legend(loc='best')\n",
        "    plt.savefig('ROC',dpi=300)\n",
        "    #predict class\n",
        "    test_pred_y_fl = clf.predict(test_data_xn)\n",
        "    train_pred_y_fl = clf.predict(train_data_xn)\n",
        "    \n",
        "    #calculating and appending accuracies\n",
        "    acc1_fl = accuracy_score(test_data_yn, test_pred_y_fl)\n",
        "    accuracy_fl_test.append(acc1_fl)\n",
        "    \n",
        "    acc2_fl = accuracy_score(train_data_yn, train_pred_y_fl)\n",
        "    accuracy_fl_train.append(acc2_fl)\n",
        "    print(\"----------------------TESTING-----------------------\")\n",
        "    target_names = ['Covid Negative', 'Covid Positive']\n",
        "    print(classification_report(test_data_yn, test_pred_y_log, target_names=target_names))"
      ],
      "execution_count": null,
      "outputs": []
    },
    {
      "cell_type": "code",
      "metadata": {
        "colab": {
          "background_save": true
        },
        "id": "xnEqKjc_DAfQ"
      },
      "source": [
        "#printing accuracies \n",
        "\n",
        "print(\"Mean accuracy for test set = \", statistics.mean(accuracy_fl_test))\n",
        "print(\"Mean accuracy for train set = \", statistics.mean(accuracy_fl_train))"
      ],
      "execution_count": null,
      "outputs": []
    },
    {
      "cell_type": "markdown",
      "metadata": {
        "id": "moTpvsGK66Dp"
      },
      "source": [
        "# **KNN**"
      ]
    },
    {
      "cell_type": "code",
      "metadata": {
        "colab": {
          "background_save": true
        },
        "id": "HCYml6vADEf1"
      },
      "source": [
        "df"
      ],
      "execution_count": null,
      "outputs": []
    },
    {
      "cell_type": "code",
      "metadata": {
        "colab": {
          "background_save": true
        },
        "id": "bJ2OkRxfAh0d"
      },
      "source": [
        "y=df[['SARS-CoV-2']] \n",
        "y"
      ],
      "execution_count": null,
      "outputs": []
    },
    {
      "cell_type": "code",
      "metadata": {
        "colab": {
          "background_save": true
        },
        "id": "z24XdgCXB8Ln"
      },
      "source": [
        "x=df.drop(['SARS-CoV-2'], axis = 1)\n",
        "x"
      ],
      "execution_count": null,
      "outputs": []
    },
    {
      "cell_type": "code",
      "metadata": {
        "colab": {
          "background_save": true
        },
        "id": "fQcJrvK5IVue"
      },
      "source": [
        "imp = SimpleImputer(missing_values=np.nan, strategy='median')\n",
        "imp.fit(x)\n",
        "#X_2 = X\n",
        "SimpleImputer()\n",
        "X = imp.transform(x)\n",
        "X"
      ],
      "execution_count": null,
      "outputs": []
    },
    {
      "cell_type": "code",
      "metadata": {
        "colab": {
          "background_save": true
        },
        "id": "KHaAsfSbB8JW"
      },
      "source": [
        "x_train, x_test, y_train, y_test= train_test_split(X, y, test_size= 0.1, random_state=0)"
      ],
      "execution_count": null,
      "outputs": []
    },
    {
      "cell_type": "code",
      "metadata": {
        "colab": {
          "background_save": true
        },
        "id": "ONbZ01qbB8G3"
      },
      "source": [
        "#Fitting K-NN classifier to the training set\n",
        "classifier= KNeighborsClassifier(n_neighbors=5, metric='minkowski', p=2 )  \n",
        "classifier.fit(x_train, y_train)\n",
        "#importing model from sklearn \n",
        "    \n",
        "    #predict class\n",
        "test_pred_y_log = classifier.predict(x_test)\n",
        "train_pred_y_log = classifier.predict(x_train)\n",
        "    \n",
        "pred_prob1 = classifier.predict_proba(x_test)\n",
        "\n",
        "from sklearn.metrics import roc_curve\n",
        "arr_2d = np.reshape(y_test, (154, 1))\n",
        "new_np = np.hstack((x_test,arr_2d))\n",
        "finaltocsv= np.hstack((new_np,pred_prob1))\n",
        "finaldf = pd.DataFrame(finaltocsv)\n",
        "finaldf.to_csv(\"Dataset6-KNN-test-results.csv\")\n",
        "    # roc curve for models\n",
        "fpr4, tpr4, thresh4 = roc_curve(y_test, pred_prob1[:,1], pos_label=1)\n",
        "\n",
        "    # roc curve for tpr = fpr \n",
        "random_probs = [0 for i in range(len(y_test))]\n",
        "p_fpr, p_tpr, _ = roc_curve(y_test, random_probs, pos_label=1)\n",
        "    \n",
        "from sklearn.metrics import roc_auc_score\n",
        "auc_score1 = roc_auc_score(y_test, pred_prob1[:,1])\n",
        "print(auc_score1)\n",
        "\n",
        "    # matplotlib\n",
        "import matplotlib.pyplot as plt\n",
        "plt.style.use('seaborn')\n",
        "\n",
        "    # plot roc curves\n",
        "plt.plot(fpr1, tpr1, linestyle='--',color='orange', label='Logistic Regression')\n",
        "plt.plot(fpr2, tpr2, linestyle='--',color='red', label='Naive Bayes')\n",
        "plt.plot(fpr3, tpr3, linestyle='--',color='yellow', label='FIsher Linear Discriminant')\n",
        "plt.plot(fpr4, tpr4, linestyle='--',color='green', label='KNN')\n",
        "plt.plot(p_fpr, p_tpr, linestyle='--', color='blue')\n",
        "    # title\n",
        "plt.title('ROC curve')\n",
        "    # x label\n",
        "plt.xlabel('False Positive Rate')\n",
        "    # y label\n",
        "plt.ylabel('True Positive rate')\n",
        "\n",
        "plt.legend(loc='best')\n",
        "plt.savefig('ROC',dpi=300)\n",
        "plt.show();"
      ],
      "execution_count": null,
      "outputs": []
    },
    {
      "cell_type": "code",
      "metadata": {
        "colab": {
          "background_save": true
        },
        "id": "_o5_vWaWB8EP"
      },
      "source": [
        "#Predicting the test set result  \n",
        "y_pred= classifier.predict(x_test) \n",
        "y_pred"
      ],
      "execution_count": null,
      "outputs": []
    },
    {
      "cell_type": "code",
      "metadata": {
        "colab": {
          "background_save": true
        },
        "id": "QDG-55GMB8Bo"
      },
      "source": [
        "#Creating the Confusion matrix\n",
        "cm= confusion_matrix(y_test, y_pred)"
      ],
      "execution_count": null,
      "outputs": []
    },
    {
      "cell_type": "code",
      "metadata": {
        "colab": {
          "background_save": true
        },
        "id": "hfYdRYnVB7-z"
      },
      "source": [
        "#finding accuracy\n",
        "accuracy = accuracy_score(y_test, y_pred)"
      ],
      "execution_count": null,
      "outputs": []
    },
    {
      "cell_type": "code",
      "metadata": {
        "colab": {
          "background_save": true
        },
        "id": "le2pPt8GB77Z"
      },
      "source": [
        "print(\"Accuracy: %.2f%%\" % (accuracy * 100.0))\n",
        "print(\"The Confusion Matrix is:\\n \",cm)\n",
        "target_names = ['Covid Negative', 'Covid Positive']\n",
        "print(classification_report(y_test, y_pred, target_names=target_names))"
      ],
      "execution_count": null,
      "outputs": []
    },
    {
      "cell_type": "code",
      "metadata": {
        "colab": {
          "background_save": true
        },
        "id": "jaZXRekGS8JJ"
      },
      "source": [
        ""
      ],
      "execution_count": null,
      "outputs": []
    },
    {
      "cell_type": "code",
      "metadata": {
        "colab": {
          "background_save": true
        },
        "id": "UFWJSw0fS8YX"
      },
      "source": [
        "from xgboost import XGBClassifier\n",
        "classifier = XGBClassifier(scale_pos_weight = 0.9)\n",
        "eval_set = [(x_train, y_train), (x_test, y_test)]\n",
        "classifier.fit(x_train, y_train, eval_metric=[\"error\", \"logloss\"], eval_set=eval_set, verbose=False)"
      ],
      "execution_count": null,
      "outputs": []
    },
    {
      "cell_type": "code",
      "metadata": {
        "colab": {
          "background_save": true
        },
        "id": "6_geNp72S8YX"
      },
      "source": [
        "y_pred = classifier.predict(x_test)\n",
        "y_pred"
      ],
      "execution_count": null,
      "outputs": []
    },
    {
      "cell_type": "code",
      "metadata": {
        "colab": {
          "background_save": true
        },
        "id": "3VDJXxqajwsT"
      },
      "source": [
        "cm= confusion_matrix(y_test, y_pred)\n",
        "#finding accuracy\n",
        "accuracy = accuracy_score(y_test, y_pred)\n",
        "test_pred_y_log = classifier.predict(x_test)\n",
        "train_pred_y_log = classifier.predict(x_train)\n",
        "print(\"Accuracy: %.2f%%\" % (accuracy * 100.0))\n",
        "print(\"The Confusion Matrix is:\\n \",cm)\n",
        "target_names = ['Covid Negative', 'Covid Positive']\n",
        "print(classification_report(y_test, y_pred, target_names=target_names))\n",
        "test_pred_y_log = classifier.predict(x_test)\n",
        "train_pred_y_log = classifier.predict(x_train)\n",
        "test_pred_y_log = classifier.predict(x_test)\n",
        "train_pred_y_log = classifier.predict(x_train)"
      ],
      "execution_count": null,
      "outputs": []
    },
    {
      "cell_type": "code",
      "metadata": {
        "colab": {
          "background_save": true
        },
        "id": "aifM5JVSS8YY"
      },
      "source": [
        "test_pred_y_log = classifier.predict(x_test)\n",
        "train_pred_y_log = classifier.predict(x_train)\n",
        "    \n",
        "pred_prob1 = classifier.predict_proba(x_test)\n",
        "\n",
        "from sklearn.metrics import roc_curve\n",
        "\n",
        "    # roc curve for models\n",
        "fpr5, tpr5, thresh5 = roc_curve(y_test, pred_prob1[:,1], pos_label=1)\n",
        "\n",
        "    # roc curve for tpr = fpr \n",
        "random_probs = [0 for i in range(len(y_test))]\n",
        "p_fpr, p_tpr, _ = roc_curve(y_test, random_probs, pos_label=1)\n",
        "    \n",
        "from sklearn.metrics import roc_auc_score\n",
        "auc_score1 = roc_auc_score(y_test, pred_prob1[:,1])\n",
        "print(auc_score1)\n",
        "import matplotlib.pyplot as plt\n",
        "plt.style.use('seaborn')\n"
      ],
      "execution_count": null,
      "outputs": []
    },
    {
      "cell_type": "markdown",
      "metadata": {
        "id": "k3JP55AkS8YY"
      },
      "source": [
        "\n",
        "# New Section"
      ]
    },
    {
      "cell_type": "code",
      "metadata": {
        "colab": {
          "background_save": true
        },
        "id": "eLOnDeC1S8YY"
      },
      "source": [
        "from sklearn.ensemble import RandomForestClassifier\n",
        "classifier = RandomForestClassifier(n_estimators = 10, criterion = 'entropy', random_state = 0)\n",
        "\n"
      ],
      "execution_count": null,
      "outputs": []
    },
    {
      "cell_type": "code",
      "metadata": {
        "colab": {
          "background_save": true
        },
        "id": "ImVKRfQ_S8YY"
      },
      "source": [
        "eval_set = [(x_train, y_train), (x_test, y_test)]\n",
        "classifier.fit(x_train, y_train)\n",
        "y_pred = classifier.predict(x_test)\n",
        "y_pred\n",
        "cm= confusion_matrix(y_test, y_pred)\n",
        "#finding accuracy\n",
        "accuracy = accuracy_score(y_test, y_pred)\n",
        "test_pred_y_log = classifier.predict(x_test)\n",
        "train_pred_y_log = classifier.predict(x_train)\n",
        "print(\"Accuracy: %.2f%%\" % (accuracy * 100.0))\n",
        "print(\"The Confusion Matrix is:\\n \",cm)\n",
        "target_names = ['Covid Negative', 'Covid Positive']\n",
        "print(classification_report(y_test, y_pred, target_names=target_names))\n",
        "test_pred_y_log = classifier.predict(x_test)\n",
        "train_pred_y_log = classifier.predict(x_train)\n",
        "test_pred_y_log = classifier.predict(x_test)\n",
        "train_pred_y_log = classifier.predict(x_train)\n",
        "test_pred_y_log = classifier.predict(x_test)\n",
        "train_pred_y_log = classifier.predict(x_train)\n",
        "    \n",
        "pred_prob1 = classifier.predict_proba(x_test)\n",
        "\n",
        "from sklearn.metrics import roc_curve\n",
        "\n",
        "    # roc curve for models\n",
        "fpr6, tpr6, thresh6 = roc_curve(y_test, pred_prob1[:,1], pos_label=1)\n",
        "\n",
        "    # roc curve for tpr = fpr \n",
        "random_probs = [0 for i in range(len(y_test))]\n",
        "p_fpr, p_tpr, _ = roc_curve(y_test, random_probs, pos_label=1)\n",
        "    \n",
        "from sklearn.metrics import roc_auc_score\n",
        "auc_score1 = roc_auc_score(y_test, pred_prob1[:,1])\n",
        "print(auc_score1)\n",
        "import matplotlib.pyplot as plt\n",
        "plt.style.use('seaborn')\n",
        "\n",
        "    # plot roc curves\n",
        "plt.plot(fpr1, tpr1, linestyle='--',color='orange', label='Logistic Regression')\n",
        "plt.plot(fpr2, tpr2, linestyle='--',color='red', label='Naive Bayes')\n",
        "plt.plot(fpr3, tpr3, linestyle='--',color='yellow', label='FIsher Linear Discriminant')\n",
        "plt.plot(fpr4, tpr4, linestyle='--',color='green', label='KNN')\n",
        "plt.plot(fpr5, tpr5, linestyle='--',color='brown', label='XGBoost')\n",
        "plt.plot(fpr6, tpr6, linestyle='--',color='purple', label='Randomforest')\n",
        "\n",
        "\n",
        "\n",
        "plt.plot(p_fpr, p_tpr, linestyle='--', color='blue')\n",
        "    # title\n",
        "plt.title('ROC curve')\n",
        "    # x label\n",
        "plt.xlabel('False Positive Rate')\n",
        "    # y label\n",
        "plt.ylabel('True Positive rate')\n",
        "\n",
        "plt.legend(loc='best')\n",
        "plt.savefig('ROC',dpi=300)\n",
        "plt.show();"
      ],
      "execution_count": null,
      "outputs": []
    },
    {
      "cell_type": "code",
      "metadata": {
        "colab": {
          "base_uri": "https://localhost:8080/"
        },
        "id": "BFuMJ6TNS8YZ",
        "outputId": "9fe90c4b-2021-4c57-e71b-4d7d13731930"
      },
      "source": [
        "from sklearn.svm import SVC\n",
        "classifier = SVC(kernel = 'linear', random_state = 0, probability=True)\n",
        "classifier.fit(x_train, y_train)\n"
      ],
      "execution_count": null,
      "outputs": [
        {
          "name": "stderr",
          "output_type": "stream",
          "text": [
            "/usr/local/lib/python3.7/dist-packages/sklearn/utils/validation.py:760: DataConversionWarning: A column-vector y was passed when a 1d array was expected. Please change the shape of y to (n_samples, ), for example using ravel().\n",
            "  y = column_or_1d(y, warn=True)\n"
          ]
        },
        {
          "data": {
            "text/plain": [
              "SVC(C=1.0, break_ties=False, cache_size=200, class_weight=None, coef0=0.0,\n",
              "    decision_function_shape='ovr', degree=3, gamma='scale', kernel='linear',\n",
              "    max_iter=-1, probability=True, random_state=0, shrinking=True, tol=0.001,\n",
              "    verbose=False)"
            ]
          },
          "execution_count": 54,
          "metadata": {
            "tags": []
          },
          "output_type": "execute_result"
        }
      ]
    },
    {
      "cell_type": "code",
      "metadata": {
        "colab": {
          "background_save": true,
          "base_uri": "https://localhost:8080/"
        },
        "id": "yp0oflHtS8YZ",
        "outputId": "79ef835a-2cc0-4dea-e2da-555101e2f173"
      },
      "source": [
        "eval_set = [(x_train, y_train), (x_test, y_test)]\n",
        "classifier.fit(x_train, y_train)\n",
        "y_pred = classifier.predict(x_test)\n",
        "y_pred\n",
        "cm= confusion_matrix(y_test, y_pred)\n",
        "#finding accuracy\n",
        "accuracy = accuracy_score(y_test, y_pred)\n",
        "test_pred_y_log = classifier.predict(x_test)\n",
        "train_pred_y_log = classifier.predict(x_train)\n",
        "print(\"Accuracy: %.2f%%\" % (accuracy * 100.0))\n",
        "print(\"The Confusion Matrix is:\\n \",cm)\n",
        "target_names = ['Covid Negative', 'Covid Positive']\n",
        "print(classification_report(y_test, y_pred, target_names=target_names))\n",
        "test_pred_y_log = classifier.predict(x_test)\n",
        "train_pred_y_log = classifier.predict(x_train)\n",
        "test_pred_y_log = classifier.predict(x_test)\n",
        "train_pred_y_log = classifier.predict(x_train)\n",
        "test_pred_y_log = classifier.predict(x_test)\n",
        "train_pred_y_log = classifier.predict(x_train)\n",
        "    \n",
        "pred_prob1 = classifier.predict_proba(x_test)\n",
        "\n",
        "from sklearn.metrics import roc_curve\n",
        "\n",
        "    # roc curve for models\n",
        "fpr7, tpr7, thresh7 = roc_curve(y_test, pred_prob1[:,1], pos_label=1)\n",
        "\n",
        "    # roc curve for tpr = fpr \n",
        "random_probs = [0 for i in range(len(y_test))]\n",
        "p_fpr, p_tpr, _ = roc_curve(y_test, random_probs, pos_label=1)\n",
        "    \n",
        "from sklearn.metrics import roc_auc_score\n",
        "auc_score1 = roc_auc_score(y_test, pred_prob1[:,1])\n",
        "print(auc_score1)\n",
        "import matplotlib.pyplot as plt\n",
        "plt.style.use('seaborn')\n",
        "\n",
        "    # plot roc curves\n",
        "plt.plot(fpr1, tpr1, linestyle='--',color='orange', label='Logistic Regression')\n",
        "plt.plot(fpr2, tpr2, linestyle='--',color='red', label='Naive Bayes')\n",
        "plt.plot(fpr3, tpr3, linestyle='--',color='yellow', label='Fisher Linear Discriminant')\n",
        "plt.plot(fpr4, tpr4, linestyle='--',color='green', label='KNN')\n",
        "plt.plot(fpr5, tpr5, linestyle='--',color='brown', label='XGBoost')\n",
        "plt.plot(fpr6, tpr6, linestyle='--',color='purple', label='Randomforest')\n",
        "plt.plot(fpr7, tpr7, linestyle='--',color='grey', label='SVM')\n",
        "\n",
        "\n",
        "plt.plot(p_fpr, p_tpr, linestyle='--', color='blue')\n",
        "    # title\n",
        "plt.title('ROC curve')\n",
        "    # x label\n",
        "plt.xlabel('False Positive Rate')\n",
        "    # y label\n",
        "plt.ylabel('True Positive rate')\n",
        "\n",
        "plt.legend(loc='best')\n",
        "plt.savefig('ROC',dpi=300)\n",
        "plt.show();"
      ],
      "execution_count": null,
      "outputs": [
        {
          "name": "stderr",
          "output_type": "stream",
          "text": [
            "/usr/local/lib/python3.7/dist-packages/sklearn/utils/validation.py:760: DataConversionWarning: A column-vector y was passed when a 1d array was expected. Please change the shape of y to (n_samples, ), for example using ravel().\n",
            "  y = column_or_1d(y, warn=True)\n"
          ]
        },
        {
          "name": "stdout",
          "output_type": "stream",
          "text": [
            "Accuracy: 73.99%\n",
            "The Confusion Matrix is:\n",
            "  [[476  20]\n",
            " [166  53]]\n",
            "                precision    recall  f1-score   support\n",
            "\n",
            "Covid Negative       0.74      0.96      0.84       496\n",
            "Covid Positive       0.73      0.24      0.36       219\n",
            "\n",
            "      accuracy                           0.74       715\n",
            "     macro avg       0.73      0.60      0.60       715\n",
            "  weighted avg       0.74      0.74      0.69       715\n",
            "\n",
            "0.7946034025629695\n"
          ]
        },
        {
          "data": {
            "image/png": "[encoded data removed]",
            "text/plain": [
              "<Figure size 576x396 with 1 Axes>"
            ]
          },
          "metadata": {},
          "output_type": "display_data"
        }
      ]
    },
    {
      "cell_type": "code",
      "metadata": {
        "colab": {
          "background_save": true
        },
        "id": "-HpN-KGJ7hMz",
        "outputId": "c9be02ca-8f1c-427d-8f13-a30aee7242e0"
      },
      "source": [
        "!pip3 install pandas_ml\n",
        "!pip3 install scikit-learn==0.21\n",
        "!pip3 install pandas==0.24.2"
      ],
      "execution_count": null,
      "outputs": [
        {
          "name": "stdout",
          "output_type": "stream",
          "text": [
            "Collecting pandas_ml\n",
            "  Downloading pandas_ml-0.6.1-py3-none-any.whl (100 kB)\n",
            "\u001b[?25l\r\u001b[K     |███▎                            | 10 kB 28.2 MB/s eta 0:00:01\r\u001b[K     |██████▌                         | 20 kB 33.4 MB/s eta 0:00:01\r\u001b[K     |█████████▉                      | 30 kB 37.8 MB/s eta 0:00:01\r\u001b[K     |█████████████                   | 40 kB 32.4 MB/s eta 0:00:01\r\u001b[K     |████████████████▍               | 51 kB 18.4 MB/s eta 0:00:01\r\u001b[K     |███████████████████▋            | 61 kB 19.0 MB/s eta 0:00:01\r\u001b[K     |██████████████████████▉         | 71 kB 14.2 MB/s eta 0:00:01\r\u001b[K     |██████████████████████████▏     | 81 kB 15.5 MB/s eta 0:00:01\r\u001b[K     |█████████████████████████████▍  | 92 kB 14.0 MB/s eta 0:00:01\r\u001b[K     |████████████████████████████████| 100 kB 6.9 MB/s \n",
            "\u001b[?25hRequirement already satisfied: pandas>=0.19.0 in /usr/local/lib/python3.7/dist-packages (from pandas_ml) (1.1.5)\n",
            "Collecting enum34\n",
            "  Downloading enum34-1.1.10-py3-none-any.whl (11 kB)\n",
            "Requirement already satisfied: pytz>=2017.2 in /usr/local/lib/python3.7/dist-packages (from pandas>=0.19.0->pandas_ml) (2018.9)\n",
            "Requirement already satisfied: numpy>=1.15.4 in /usr/local/lib/python3.7/dist-packages (from pandas>=0.19.0->pandas_ml) (1.19.5)\n",
            "Requirement already satisfied: python-dateutil>=2.7.3 in /usr/local/lib/python3.7/dist-packages (from pandas>=0.19.0->pandas_ml) (2.8.1)\n",
            "Requirement already satisfied: six>=1.5 in /usr/local/lib/python3.7/dist-packages (from python-dateutil>=2.7.3->pandas>=0.19.0->pandas_ml) (1.15.0)\n",
            "Installing collected packages: enum34, pandas-ml\n",
            "Successfully installed enum34-1.1.10 pandas-ml-0.6.1\n"
          ]
        },
        {
          "data": {
            "application/vnd.colab-display-data+json": {
              "pip_warning": {
                "packages": [
                  "enum"
                ]
              }
            }
          },
          "metadata": {},
          "output_type": "display_data"
        },
        {
          "name": "stdout",
          "output_type": "stream",
          "text": [
            "Collecting scikit-learn==0.21\n",
            "  Downloading scikit_learn-0.21.0-cp37-cp37m-manylinux1_x86_64.whl (6.7 MB)\n",
            "\u001b[K     |████████████████████████████████| 6.7 MB 11.8 MB/s \n",
            "\u001b[?25hRequirement already satisfied: numpy>=1.11.0 in /usr/local/lib/python3.7/dist-packages (from scikit-learn==0.21) (1.19.5)\n",
            "Requirement already satisfied: joblib>=0.11 in /usr/local/lib/python3.7/dist-packages (from scikit-learn==0.21) (1.0.1)\n",
            "Requirement already satisfied: scipy>=0.17.0 in /usr/local/lib/python3.7/dist-packages (from scikit-learn==0.21) (1.4.1)\n",
            "Installing collected packages: scikit-learn\n",
            "  Attempting uninstall: scikit-learn\n",
            "    Found existing installation: scikit-learn 0.22.2.post1\n",
            "    Uninstalling scikit-learn-0.22.2.post1:\n",
            "      Successfully uninstalled scikit-learn-0.22.2.post1\n",
            "Successfully installed scikit-learn-0.21.0\n"
          ]
        },
        {
          "data": {
            "application/vnd.colab-display-data+json": {
              "pip_warning": {
                "packages": [
                  "sklearn"
                ]
              }
            }
          },
          "metadata": {},
          "output_type": "display_data"
        },
        {
          "name": "stdout",
          "output_type": "stream",
          "text": [
            "Collecting pandas==0.24.2\n",
            "  Downloading pandas-0.24.2-cp37-cp37m-manylinux1_x86_64.whl (10.1 MB)\n",
            "\u001b[K     |████████████████████████████████| 10.1 MB 13.9 MB/s \n",
            "\u001b[?25hRequirement already satisfied: python-dateutil>=2.5.0 in /usr/local/lib/python3.7/dist-packages (from pandas==0.24.2) (2.8.1)\n",
            "Requirement already satisfied: pytz>=2011k in /usr/local/lib/python3.7/dist-packages (from pandas==0.24.2) (2018.9)\n",
            "Requirement already satisfied: numpy>=1.12.0 in /usr/local/lib/python3.7/dist-packages (from pandas==0.24.2) (1.19.5)\n",
            "Requirement already satisfied: six>=1.5 in /usr/local/lib/python3.7/dist-packages (from python-dateutil>=2.5.0->pandas==0.24.2) (1.15.0)\n",
            "Installing collected packages: pandas\n",
            "  Attempting uninstall: pandas\n",
            "    Found existing installation: pandas 1.1.5\n",
            "    Uninstalling pandas-1.1.5:\n",
            "      Successfully uninstalled pandas-1.1.5\n",
            "\u001b[31mERROR: pip's dependency resolver does not currently take into account all the packages that are installed. This behaviour is the source of the following dependency conflicts.\n",
            "xarray 0.18.2 requires pandas>=1.0, but you have pandas 0.24.2 which is incompatible.\n",
            "plotnine 0.6.0 requires pandas>=0.25.0, but you have pandas 0.24.2 which is incompatible.\n",
            "mizani 0.6.0 requires pandas>=0.25.0, but you have pandas 0.24.2 which is incompatible.\n",
            "google-colab 1.0.0 requires pandas~=1.1.0; python_version >= \"3.0\", but you have pandas 0.24.2 which is incompatible.\n",
            "fbprophet 0.7.1 requires pandas>=1.0.4, but you have pandas 0.24.2 which is incompatible.\u001b[0m\n",
            "Successfully installed pandas-0.24.2\n"
          ]
        },
        {
          "data": {
            "application/vnd.colab-display-data+json": {
              "pip_warning": {
                "packages": [
                  "pandas"
                ]
              }
            }
          },
          "metadata": {},
          "output_type": "display_data"
        }
      ]
    },
    {
      "cell_type": "code",
      "metadata": {
        "colab": {
          "background_save": true
        },
        "id": "UtpY1Psk7zKY",
        "outputId": "4e748fe9-d689-45dc-9ba1-e77d32b25d7c"
      },
      "source": [
        "from pandas_ml import ConfusionMatrix\n",
        "dataset = pd.read_csv('/content/Dataset-6.csv')\n",
        "\n",
        "total_neg_samples=sum(dataset['SARS-CoV-2']==0)\n",
        "total_pos_samples=sum(dataset['SARS-CoV-2']==1)\n",
        "scale_pos_weight = total_neg_samples / total_pos_samples\n",
        "\n",
        "dataset.reset_index(inplace = True)\n",
        "\n",
        "y = dataset[['SARS-CoV-2']]\n",
        "\n",
        "X = dataset\n",
        "X.drop(labels=None, axis=1, columns=['SARS-CoV-2','index'], level=None, inplace=True)\n",
        "\n",
        "X_train, X_test, y_train, y_test = train_test_split(X, y, test_size=0.1, random_state=42)\n",
        "\n",
        "model = XGBClassifier(use_label_encoder=False, scale_pos_weight = scale_pos_weight)\n",
        "eval_set = [(X_train, y_train), (X_test, y_test)]\n",
        "model.fit(X_train, y_train, eval_metric=[\"error\", \"logloss\"], eval_set=eval_set, verbose=False)\n",
        "\n",
        "y_pred = model.predict(X_test)\n",
        "test_probs = model.predict_proba(X_test)\n",
        "test_probs = test_probs[:, 1]\n",
        "auc = roc_auc_score(y_test, test_probs)\n",
        "print('AUC Score is ', (auc), '\\n')\n",
        "from sklearn.metrics import roc_curve\n",
        "\n",
        "    # roc curve for models\n",
        "fpr8, tpr8, thresh8 = roc_curve(y_test, test_probs, pos_label=1)\n",
        "pred = pd.DataFrame(y_pred, columns=['SARS-CoV-2'])\n",
        "test = pd.DataFrame(y_test, columns=['SARS-CoV-2'])\n",
        "test.reset_index(inplace = True)\n",
        "test.drop(labels=None, axis=1, columns=['index'], level=None, inplace=True)\n",
        "\n",
        "CM = ConfusionMatrix(test['SARS-CoV-2'], pred['SARS-CoV-2'])\n",
        "\n",
        "print('CONFUSION MATRIX -\\n',(CM), '\\n')\n",
        "CM.print_stats()\n",
        "import matplotlib.pyplot as plt\n",
        "plt.style.use('seaborn')\n",
        "\n",
        "    # plot roc curves    # title\n",
        "plt.title('ROC curve')\n",
        "    # x label\n",
        "plt.xlabel('False Positive Rate')\n",
        "    # y label\n",
        "plt.ylabel('True Positive rate')\n",
        "\n",
        "plt.legend(loc='best')\n",
        "plt.style.use('seaborn')\n",
        "\n",
        "    # plot roc curves\n",
        "plt.plot(fpr1, tpr1, linestyle='--',color='orange', label='Logistic Regression')\n",
        "plt.plot(fpr2, tpr2, linestyle='--',color='red', label='Naive Bayes')\n",
        "plt.plot(fpr3, tpr3, linestyle='--',color='yellow', label='Fisher Linear Discriminant')\n",
        "plt.plot(fpr4, tpr4, linestyle='--',color='green', label='KNN')\n",
        "plt.plot(fpr8, tpr8, linestyle='--',color='brown', label='XGBoost')\n",
        "plt.plot(fpr6, tpr6, linestyle='--',color='purple', label='Randomforest')\n",
        "plt.plot(fpr7, tpr7, linestyle='--',color='grey', label='SVM')\n",
        "\n",
        "\n",
        "plt.plot(p_fpr, p_tpr, linestyle='--', color='blue')\n",
        "    # title\n",
        "plt.title('ROC curve')\n",
        "    # x label\n",
        "plt.xlabel('False Positive Rate')\n",
        "    # y label\n",
        "plt.ylabel('True Positive rate')\n",
        "\n",
        "plt.legend(loc='best')\n",
        "plt.savefig('ROC',dpi=300)\n",
        "plt.show();"
      ],
      "execution_count": null,
      "outputs": [
        {
          "ename": "ValueError",
          "evalue": "ignored",
          "output_type": "error",
          "traceback": [
            "\u001b[0;31m---------------------------------------------------------------------------\u001b[0m",
            "\u001b[0;31mValueError\u001b[0m                                Traceback (most recent call last)",
            "\u001b[0;32m<ipython-input-57-ac24b5f8128a>\u001b[0m in \u001b[0;36m<module>\u001b[0;34m()\u001b[0m\n\u001b[0;32m----> 1\u001b[0;31m \u001b[0;32mfrom\u001b[0m \u001b[0mpandas_ml\u001b[0m \u001b[0;32mimport\u001b[0m \u001b[0mConfusionMatrix\u001b[0m\u001b[0;34m\u001b[0m\u001b[0;34m\u001b[0m\u001b[0m\n\u001b[0m\u001b[1;32m      2\u001b[0m \u001b[0mdataset\u001b[0m \u001b[0;34m=\u001b[0m \u001b[0mpd\u001b[0m\u001b[0;34m.\u001b[0m\u001b[0mread_csv\u001b[0m\u001b[0;34m(\u001b[0m\u001b[0;34m'/content/Dataset-6.csv'\u001b[0m\u001b[0;34m)\u001b[0m\u001b[0;34m\u001b[0m\u001b[0;34m\u001b[0m\u001b[0m\n\u001b[1;32m      3\u001b[0m \u001b[0;34m\u001b[0m\u001b[0m\n\u001b[1;32m      4\u001b[0m \u001b[0mtotal_neg_samples\u001b[0m\u001b[0;34m=\u001b[0m\u001b[0msum\u001b[0m\u001b[0;34m(\u001b[0m\u001b[0mdataset\u001b[0m\u001b[0;34m[\u001b[0m\u001b[0;34m'SARS-CoV-2'\u001b[0m\u001b[0;34m]\u001b[0m\u001b[0;34m==\u001b[0m\u001b[0;36m0\u001b[0m\u001b[0;34m)\u001b[0m\u001b[0;34m\u001b[0m\u001b[0;34m\u001b[0m\u001b[0m\n\u001b[1;32m      5\u001b[0m \u001b[0mtotal_pos_samples\u001b[0m\u001b[0;34m=\u001b[0m\u001b[0msum\u001b[0m\u001b[0;34m(\u001b[0m\u001b[0mdataset\u001b[0m\u001b[0;34m[\u001b[0m\u001b[0;34m'SARS-CoV-2'\u001b[0m\u001b[0;34m]\u001b[0m\u001b[0;34m==\u001b[0m\u001b[0;36m1\u001b[0m\u001b[0;34m)\u001b[0m\u001b[0;34m\u001b[0m\u001b[0;34m\u001b[0m\u001b[0m\n",
            "\u001b[0;32m/usr/local/lib/python3.7/dist-packages/pandas_ml/__init__.py\u001b[0m in \u001b[0;36m<module>\u001b[0;34m()\u001b[0m\n\u001b[1;32m      1\u001b[0m \u001b[0;31m#!/usr/bin/env python\u001b[0m\u001b[0;34m\u001b[0m\u001b[0;34m\u001b[0m\u001b[0;34m\u001b[0m\u001b[0m\n\u001b[1;32m      2\u001b[0m \u001b[0;34m\u001b[0m\u001b[0m\n\u001b[0;32m----> 3\u001b[0;31m \u001b[0;32mfrom\u001b[0m \u001b[0mpandas_ml\u001b[0m\u001b[0;34m.\u001b[0m\u001b[0mcore\u001b[0m \u001b[0;32mimport\u001b[0m \u001b[0mModelFrame\u001b[0m\u001b[0;34m,\u001b[0m \u001b[0mModelSeries\u001b[0m       \u001b[0;31m# noqa\u001b[0m\u001b[0;34m\u001b[0m\u001b[0;34m\u001b[0m\u001b[0m\n\u001b[0m\u001b[1;32m      4\u001b[0m \u001b[0;32mfrom\u001b[0m \u001b[0mpandas_ml\u001b[0m\u001b[0;34m.\u001b[0m\u001b[0mtools\u001b[0m \u001b[0;32mimport\u001b[0m \u001b[0minfo\u001b[0m                         \u001b[0;31m# noqa\u001b[0m\u001b[0;34m\u001b[0m\u001b[0;34m\u001b[0m\u001b[0m\n\u001b[1;32m      5\u001b[0m \u001b[0;32mfrom\u001b[0m \u001b[0mpandas_ml\u001b[0m\u001b[0;34m.\u001b[0m\u001b[0mversion\u001b[0m \u001b[0;32mimport\u001b[0m \u001b[0mversion\u001b[0m \u001b[0;32mas\u001b[0m \u001b[0m__version__\u001b[0m     \u001b[0;31m# noqa\u001b[0m\u001b[0;34m\u001b[0m\u001b[0;34m\u001b[0m\u001b[0m\n",
            "\u001b[0;32m/usr/local/lib/python3.7/dist-packages/pandas_ml/core/__init__.py\u001b[0m in \u001b[0;36m<module>\u001b[0;34m()\u001b[0m\n\u001b[1;32m      1\u001b[0m \u001b[0;31m#!/usr/bin/env python\u001b[0m\u001b[0;34m\u001b[0m\u001b[0;34m\u001b[0m\u001b[0;34m\u001b[0m\u001b[0m\n\u001b[1;32m      2\u001b[0m \u001b[0;34m\u001b[0m\u001b[0m\n\u001b[0;32m----> 3\u001b[0;31m \u001b[0;32mfrom\u001b[0m \u001b[0mpandas_ml\u001b[0m\u001b[0;34m.\u001b[0m\u001b[0mcore\u001b[0m\u001b[0;34m.\u001b[0m\u001b[0mframe\u001b[0m \u001b[0;32mimport\u001b[0m \u001b[0mModelFrame\u001b[0m       \u001b[0;31m# noqa\u001b[0m\u001b[0;34m\u001b[0m\u001b[0;34m\u001b[0m\u001b[0m\n\u001b[0m\u001b[1;32m      4\u001b[0m \u001b[0;32mfrom\u001b[0m \u001b[0mpandas_ml\u001b[0m\u001b[0;34m.\u001b[0m\u001b[0mcore\u001b[0m\u001b[0;34m.\u001b[0m\u001b[0mseries\u001b[0m \u001b[0;32mimport\u001b[0m \u001b[0mModelSeries\u001b[0m     \u001b[0;31m# noqa\u001b[0m\u001b[0;34m\u001b[0m\u001b[0;34m\u001b[0m\u001b[0m\n",
            "\u001b[0;32m/usr/local/lib/python3.7/dist-packages/pandas_ml/core/frame.py\u001b[0m in \u001b[0;36m<module>\u001b[0;34m()\u001b[0m\n\u001b[1;32m      8\u001b[0m \u001b[0;34m\u001b[0m\u001b[0m\n\u001b[1;32m      9\u001b[0m \u001b[0;32mimport\u001b[0m \u001b[0mpandas_ml\u001b[0m\u001b[0;34m.\u001b[0m\u001b[0mimbaccessors\u001b[0m \u001b[0;32mas\u001b[0m \u001b[0mimbaccessors\u001b[0m\u001b[0;34m\u001b[0m\u001b[0;34m\u001b[0m\u001b[0m\n\u001b[0;32m---> 10\u001b[0;31m \u001b[0;32mimport\u001b[0m \u001b[0mpandas_ml\u001b[0m\u001b[0;34m.\u001b[0m\u001b[0mskaccessors\u001b[0m \u001b[0;32mas\u001b[0m \u001b[0mskaccessors\u001b[0m\u001b[0;34m\u001b[0m\u001b[0;34m\u001b[0m\u001b[0m\n\u001b[0m\u001b[1;32m     11\u001b[0m \u001b[0;32mimport\u001b[0m \u001b[0mpandas_ml\u001b[0m\u001b[0;34m.\u001b[0m\u001b[0msmaccessors\u001b[0m \u001b[0;32mas\u001b[0m \u001b[0msmaccessors\u001b[0m\u001b[0;34m\u001b[0m\u001b[0;34m\u001b[0m\u001b[0m\n\u001b[1;32m     12\u001b[0m \u001b[0;32mimport\u001b[0m \u001b[0mpandas_ml\u001b[0m\u001b[0;34m.\u001b[0m\u001b[0msnsaccessors\u001b[0m \u001b[0;32mas\u001b[0m \u001b[0msnsaccessors\u001b[0m\u001b[0;34m\u001b[0m\u001b[0;34m\u001b[0m\u001b[0m\n",
            "\u001b[0;32m/usr/local/lib/python3.7/dist-packages/pandas_ml/skaccessors/__init__.py\u001b[0m in \u001b[0;36m<module>\u001b[0;34m()\u001b[0m\n\u001b[1;32m      2\u001b[0m \u001b[0;34m\u001b[0m\u001b[0m\n\u001b[1;32m      3\u001b[0m \u001b[0;32mfrom\u001b[0m \u001b[0mpandas_ml\u001b[0m\u001b[0;34m.\u001b[0m\u001b[0mskaccessors\u001b[0m\u001b[0;34m.\u001b[0m\u001b[0mbase\u001b[0m \u001b[0;32mimport\u001b[0m \u001b[0m_maybe_sklearn_data\u001b[0m                        \u001b[0;31m# noqa\u001b[0m\u001b[0;34m\u001b[0m\u001b[0;34m\u001b[0m\u001b[0m\n\u001b[0;32m----> 4\u001b[0;31m \u001b[0;32mfrom\u001b[0m \u001b[0mpandas_ml\u001b[0m\u001b[0;34m.\u001b[0m\u001b[0mskaccessors\u001b[0m\u001b[0;34m.\u001b[0m\u001b[0mcluster\u001b[0m \u001b[0;32mimport\u001b[0m \u001b[0mClusterMethods\u001b[0m                          \u001b[0;31m# noqa\u001b[0m\u001b[0;34m\u001b[0m\u001b[0;34m\u001b[0m\u001b[0m\n\u001b[0m\u001b[1;32m      5\u001b[0m \u001b[0;32mfrom\u001b[0m \u001b[0mpandas_ml\u001b[0m\u001b[0;34m.\u001b[0m\u001b[0mskaccessors\u001b[0m\u001b[0;34m.\u001b[0m\u001b[0mcovariance\u001b[0m \u001b[0;32mimport\u001b[0m \u001b[0mCovarianceMethods\u001b[0m                    \u001b[0;31m# noqa\u001b[0m\u001b[0;34m\u001b[0m\u001b[0;34m\u001b[0m\u001b[0m\n\u001b[1;32m      6\u001b[0m \u001b[0;32mfrom\u001b[0m \u001b[0mpandas_ml\u001b[0m\u001b[0;34m.\u001b[0m\u001b[0mskaccessors\u001b[0m\u001b[0;34m.\u001b[0m\u001b[0mcross_decomposition\u001b[0m \u001b[0;32mimport\u001b[0m \u001b[0mCrossDecompositionMethods\u001b[0m   \u001b[0;31m# noqa\u001b[0m\u001b[0;34m\u001b[0m\u001b[0;34m\u001b[0m\u001b[0m\n",
            "\u001b[0;32m/usr/local/lib/python3.7/dist-packages/pandas_ml/skaccessors/cluster.py\u001b[0m in \u001b[0;36m<module>\u001b[0;34m()\u001b[0m\n\u001b[1;32m     83\u001b[0m \u001b[0;34m\u001b[0m\u001b[0m\n\u001b[1;32m     84\u001b[0m \u001b[0m_cluster_methods\u001b[0m \u001b[0;34m=\u001b[0m \u001b[0;34m[\u001b[0m\u001b[0;34m'estimate_bandwidth'\u001b[0m\u001b[0;34m,\u001b[0m \u001b[0;34m'ward_tree'\u001b[0m\u001b[0;34m]\u001b[0m\u001b[0;34m\u001b[0m\u001b[0;34m\u001b[0m\u001b[0m\n\u001b[0;32m---> 85\u001b[0;31m \u001b[0m_attach_methods\u001b[0m\u001b[0;34m(\u001b[0m\u001b[0mClusterMethods\u001b[0m\u001b[0;34m,\u001b[0m \u001b[0m_wrap_data_func\u001b[0m\u001b[0;34m,\u001b[0m \u001b[0m_cluster_methods\u001b[0m\u001b[0;34m)\u001b[0m\u001b[0;34m\u001b[0m\u001b[0;34m\u001b[0m\u001b[0m\n\u001b[0m",
            "\u001b[0;32m/usr/local/lib/python3.7/dist-packages/pandas_ml/core/accessor.py\u001b[0m in \u001b[0;36m_attach_methods\u001b[0;34m(cls, wrap_func, methods)\u001b[0m\n\u001b[1;32m     88\u001b[0m \u001b[0;32mdef\u001b[0m \u001b[0m_attach_methods\u001b[0m\u001b[0;34m(\u001b[0m\u001b[0mcls\u001b[0m\u001b[0;34m,\u001b[0m \u001b[0mwrap_func\u001b[0m\u001b[0;34m,\u001b[0m \u001b[0mmethods\u001b[0m\u001b[0;34m)\u001b[0m\u001b[0;34m:\u001b[0m\u001b[0;34m\u001b[0m\u001b[0;34m\u001b[0m\u001b[0m\n\u001b[1;32m     89\u001b[0m     \u001b[0;32mtry\u001b[0m\u001b[0;34m:\u001b[0m\u001b[0;34m\u001b[0m\u001b[0;34m\u001b[0m\u001b[0m\n\u001b[0;32m---> 90\u001b[0;31m         \u001b[0mmodule\u001b[0m \u001b[0;34m=\u001b[0m \u001b[0mimportlib\u001b[0m\u001b[0;34m.\u001b[0m\u001b[0mimport_module\u001b[0m\u001b[0;34m(\u001b[0m\u001b[0mcls\u001b[0m\u001b[0;34m.\u001b[0m\u001b[0m_module_name\u001b[0m\u001b[0;34m)\u001b[0m\u001b[0;34m\u001b[0m\u001b[0;34m\u001b[0m\u001b[0m\n\u001b[0m\u001b[1;32m     91\u001b[0m \u001b[0;34m\u001b[0m\u001b[0m\n\u001b[1;32m     92\u001b[0m         \u001b[0;32mfor\u001b[0m \u001b[0mmethod\u001b[0m \u001b[0;32min\u001b[0m \u001b[0mmethods\u001b[0m\u001b[0;34m:\u001b[0m\u001b[0;34m\u001b[0m\u001b[0;34m\u001b[0m\u001b[0m\n",
            "\u001b[0;32m/usr/lib/python3.7/importlib/__init__.py\u001b[0m in \u001b[0;36mimport_module\u001b[0;34m(name, package)\u001b[0m\n\u001b[1;32m    125\u001b[0m                 \u001b[0;32mbreak\u001b[0m\u001b[0;34m\u001b[0m\u001b[0;34m\u001b[0m\u001b[0m\n\u001b[1;32m    126\u001b[0m             \u001b[0mlevel\u001b[0m \u001b[0;34m+=\u001b[0m \u001b[0;36m1\u001b[0m\u001b[0;34m\u001b[0m\u001b[0;34m\u001b[0m\u001b[0m\n\u001b[0;32m--> 127\u001b[0;31m     \u001b[0;32mreturn\u001b[0m \u001b[0m_bootstrap\u001b[0m\u001b[0;34m.\u001b[0m\u001b[0m_gcd_import\u001b[0m\u001b[0;34m(\u001b[0m\u001b[0mname\u001b[0m\u001b[0;34m[\u001b[0m\u001b[0mlevel\u001b[0m\u001b[0;34m:\u001b[0m\u001b[0;34m]\u001b[0m\u001b[0;34m,\u001b[0m \u001b[0mpackage\u001b[0m\u001b[0;34m,\u001b[0m \u001b[0mlevel\u001b[0m\u001b[0;34m)\u001b[0m\u001b[0;34m\u001b[0m\u001b[0;34m\u001b[0m\u001b[0m\n\u001b[0m\u001b[1;32m    128\u001b[0m \u001b[0;34m\u001b[0m\u001b[0m\n\u001b[1;32m    129\u001b[0m \u001b[0;34m\u001b[0m\u001b[0m\n",
            "\u001b[0;32m/usr/local/lib/python3.7/dist-packages/sklearn/cluster/__init__.py\u001b[0m in \u001b[0;36m<module>\u001b[0;34m()\u001b[0m\n\u001b[1;32m      4\u001b[0m \"\"\"\n\u001b[1;32m      5\u001b[0m \u001b[0;34m\u001b[0m\u001b[0m\n\u001b[0;32m----> 6\u001b[0;31m \u001b[0;32mfrom\u001b[0m \u001b[0;34m.\u001b[0m\u001b[0mspectral\u001b[0m \u001b[0;32mimport\u001b[0m \u001b[0mspectral_clustering\u001b[0m\u001b[0;34m,\u001b[0m \u001b[0mSpectralClustering\u001b[0m\u001b[0;34m\u001b[0m\u001b[0;34m\u001b[0m\u001b[0m\n\u001b[0m\u001b[1;32m      7\u001b[0m from .mean_shift_ import (mean_shift, MeanShift,\n\u001b[1;32m      8\u001b[0m                           estimate_bandwidth, get_bin_seeds)\n",
            "\u001b[0;32m/usr/local/lib/python3.7/dist-packages/sklearn/cluster/spectral.py\u001b[0m in \u001b[0;36m<module>\u001b[0;34m()\u001b[0m\n\u001b[1;32m     15\u001b[0m \u001b[0;32mfrom\u001b[0m \u001b[0;34m.\u001b[0m\u001b[0;34m.\u001b[0m\u001b[0mmetrics\u001b[0m\u001b[0;34m.\u001b[0m\u001b[0mpairwise\u001b[0m \u001b[0;32mimport\u001b[0m \u001b[0mpairwise_kernels\u001b[0m\u001b[0;34m\u001b[0m\u001b[0;34m\u001b[0m\u001b[0m\n\u001b[1;32m     16\u001b[0m \u001b[0;32mfrom\u001b[0m \u001b[0;34m.\u001b[0m\u001b[0;34m.\u001b[0m\u001b[0mneighbors\u001b[0m \u001b[0;32mimport\u001b[0m \u001b[0mkneighbors_graph\u001b[0m\u001b[0;34m\u001b[0m\u001b[0;34m\u001b[0m\u001b[0m\n\u001b[0;32m---> 17\u001b[0;31m \u001b[0;32mfrom\u001b[0m \u001b[0;34m.\u001b[0m\u001b[0;34m.\u001b[0m\u001b[0mmanifold\u001b[0m \u001b[0;32mimport\u001b[0m \u001b[0mspectral_embedding\u001b[0m\u001b[0;34m\u001b[0m\u001b[0;34m\u001b[0m\u001b[0m\n\u001b[0m\u001b[1;32m     18\u001b[0m \u001b[0;32mfrom\u001b[0m \u001b[0;34m.\u001b[0m\u001b[0mk_means_\u001b[0m \u001b[0;32mimport\u001b[0m \u001b[0mk_means\u001b[0m\u001b[0;34m\u001b[0m\u001b[0;34m\u001b[0m\u001b[0m\n\u001b[1;32m     19\u001b[0m \u001b[0;34m\u001b[0m\u001b[0m\n",
            "\u001b[0;32m/usr/local/lib/python3.7/dist-packages/sklearn/manifold/__init__.py\u001b[0m in \u001b[0;36m<module>\u001b[0;34m()\u001b[0m\n\u001b[1;32m      7\u001b[0m \u001b[0;32mfrom\u001b[0m \u001b[0;34m.\u001b[0m\u001b[0mmds\u001b[0m \u001b[0;32mimport\u001b[0m \u001b[0mMDS\u001b[0m\u001b[0;34m,\u001b[0m \u001b[0msmacof\u001b[0m\u001b[0;34m\u001b[0m\u001b[0;34m\u001b[0m\u001b[0m\n\u001b[1;32m      8\u001b[0m \u001b[0;32mfrom\u001b[0m \u001b[0;34m.\u001b[0m\u001b[0mspectral_embedding_\u001b[0m \u001b[0;32mimport\u001b[0m \u001b[0mSpectralEmbedding\u001b[0m\u001b[0;34m,\u001b[0m \u001b[0mspectral_embedding\u001b[0m\u001b[0;34m\u001b[0m\u001b[0;34m\u001b[0m\u001b[0m\n\u001b[0;32m----> 9\u001b[0;31m \u001b[0;32mfrom\u001b[0m \u001b[0;34m.\u001b[0m\u001b[0mt_sne\u001b[0m \u001b[0;32mimport\u001b[0m \u001b[0mTSNE\u001b[0m\u001b[0;34m\u001b[0m\u001b[0;34m\u001b[0m\u001b[0m\n\u001b[0m\u001b[1;32m     10\u001b[0m \u001b[0;34m\u001b[0m\u001b[0m\n\u001b[1;32m     11\u001b[0m __all__ = ['locally_linear_embedding', 'LocallyLinearEmbedding', 'Isomap',\n",
            "\u001b[0;32m/usr/local/lib/python3.7/dist-packages/sklearn/manifold/t_sne.py\u001b[0m in \u001b[0;36m<module>\u001b[0;34m()\u001b[0m\n\u001b[1;32m     24\u001b[0m \u001b[0;32mfrom\u001b[0m \u001b[0;34m.\u001b[0m\u001b[0;34m.\u001b[0m\u001b[0mmetrics\u001b[0m\u001b[0;34m.\u001b[0m\u001b[0mpairwise\u001b[0m \u001b[0;32mimport\u001b[0m \u001b[0mpairwise_distances\u001b[0m\u001b[0;34m\u001b[0m\u001b[0;34m\u001b[0m\u001b[0m\n\u001b[1;32m     25\u001b[0m \u001b[0;32mfrom\u001b[0m \u001b[0;34m.\u001b[0m \u001b[0;32mimport\u001b[0m \u001b[0m_utils\u001b[0m\u001b[0;34m\u001b[0m\u001b[0;34m\u001b[0m\u001b[0m\n\u001b[0;32m---> 26\u001b[0;31m \u001b[0;32mfrom\u001b[0m \u001b[0;34m.\u001b[0m \u001b[0;32mimport\u001b[0m \u001b[0m_barnes_hut_tsne\u001b[0m\u001b[0;34m\u001b[0m\u001b[0;34m\u001b[0m\u001b[0m\n\u001b[0m\u001b[1;32m     27\u001b[0m \u001b[0;34m\u001b[0m\u001b[0m\n\u001b[1;32m     28\u001b[0m \u001b[0;34m\u001b[0m\u001b[0m\n",
            "\u001b[0;32msklearn/neighbors/quad_tree.pxd\u001b[0m in \u001b[0;36minit sklearn.manifold._barnes_hut_tsne\u001b[0;34m()\u001b[0m\n",
            "\u001b[0;32m/usr/local/lib/python3.7/dist-packages/sklearn/tree/_splitter.pxd\u001b[0m in \u001b[0;36minit sklearn.neighbors.quad_tree\u001b[0;34m()\u001b[0m\n",
            "\u001b[0;31mValueError\u001b[0m: sklearn.tree._splitter.Splitter size changed, may indicate binary incompatibility. Expected 368 from C header, got 360 from PyObject"
          ]
        }
      ]
    }
  ]
}
